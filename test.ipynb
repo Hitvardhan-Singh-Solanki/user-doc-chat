{
"cells": [
{
"cell_type": "code",
"metadata": {
"collapsed": false,
"scrolled": false
},
"source": [
"update = False\n",
"\n",
"from os import path\n",
"\n",
"%cd /root\n",
"!git clone https://github.com/comfyanonymous/ComfyUI.git\n",
"%cd ComfyUI\n",
"if update:\n",
"    get_ipython().system('git pull')\n",
"!pip install -r requirements.txt\n",
"\n",
"checkpoints =  '/root/ComfyUI/models/checkpoints'\n",
"link_path = checkpoints + '/temp-models'\n",
"temp_models = '/root/temp/temp-models'\n",
"\n",
"!mkdir /root/temp\n",
"!mkdir $temp_models\n",
"\n",
"if not path.exists(link_path):\n",
"    get_ipython().system(f'ln -s {temp_models} {checkpoints}')\n",
"\n",
"!mamba install openssh -y\n",
"\n",
"# Install the node manager\n",
"update_manager = False\n",
"%cd /root/ComfyUI/custom_nodes\n",
"!git clone https://github.com/ltdrdata/ComfyUI-Manager.git\n",
"%cd ComfyUI-Manager\n",
"if update_manager:\n",
"    get_ipython().system('git pull')\n",
"!pip install -r requirements.txt"
],
"execution_count": null,
"outputs": []
},
{
"cell_type": "markdown",
"metadata": {},
"source": [
"# UNET"
]
},
{
"cell_type": "code",
"metadata": {
"collapsed": false,
"scrolled": false
},
"source": [
"# Install the UNET model\n",
"model_url = 'https://huggingface.co/Comfy-Org/Qwen-Image-Edit_ComfyUI/resolve/main/split_files/diffusion_models/qwen_image_edit_fp8_e4m3fn.safetensors'\n",
"model_name = 'qwen_image_edit_fp8_e4m3fn.safetensors'\n",
"\n",
"%cd /root/ComfyUI/models/diffusion_models\n",
"get_ipython().system(f'wget -O "{model_name}" "{model_url}"')"
],
"execution_count": null,
"outputs": []
},
{
"cell_type": "markdown",
"metadata": {},
"source": [
"# VAE"
]
},
{
"cell_type": "code",
"metadata": {
"collapsed": false,
"scrolled": false
},
"source": [
"# Install the VAE model\n",
"model_url = 'https://huggingface.co/Comfy-Org/Qwen-Image_ComfyUI/resolve/main/split_files/vae/qwen_image_vae.safetensors'\n",
"model_name = 'qwen_image_vae.safetensors'\n",
"\n",
"%cd /root/ComfyUI/models/vae\n",
"get_ipython().system(f'wget -O "{model_name}" "{model_url}"')"
],
"execution_count": null,
"outputs": []
},
{
"cell_type": "markdown",
"metadata": {},
"source": [
"# CLIP"
]
},
{
"cell_type": "code",
"metadata": {
"collapsed": false,
"scrolled": false
},
"source": [
"# Install the CLIP model\n",
"model_url = 'https://huggingface.co/Comfy-Org/Qwen-Image_ComfyUI/resolve/main/split_files/text_encoders/qwen_2.5_vl_7b_fp8_scaled.safetensors'\n",
"model_name = 'qwen_2.5_vl_7b_fp8_scaled.safetensors'\n",
"\n",
"%cd /root/ComfyUI/models/text_encoders\n",
"get_ipython().system(f'wget -O "{model_name}" "{model_url}"')"
],
"execution_count": null,
"outputs": []
},
{
"cell_type": "markdown",
"metadata": {},
"source": [
"# Lora"
]
},
{
"cell_type": "code",
"metadata": {
"collapsed": false,
"scrolled": false
},
"source": [
"# Install a LoRA\n",
"model_url = 'https://huggingface.co/lightx2v/Qwen-Image-Lightning/resolve/main/Qwen-Image-Lightning-4steps-V1.0.safetensors'\n",
"model_name = 'Qwen-Image-Lightning-4steps-V1.0.safetensors'\n",
"\n",
"%cd /root/ComfyUI/models/loras\n",
"get_ipython().system(f'wget -O "{model_name}" "{model_url}"')"
],
"execution_count": null,
"outputs": []
},
{
"cell_type": "markdown",
"metadata": {},
"source": [
"# Launch with Pinggy"
]
},
{
"cell_type": "code",
"metadata": {
"collapsed": false,
"scrolled": false
},
"source": [
"# Starting the Web UI with pinggy\n",
"\n",
"from multiprocessing import Process\n",
"import sys\n",
"import time\n",
"\n",
"!touch log.txt\n",
"open('log.txt', 'w').close()\n",
"\n",
"def run_app():\n",
"    cmd = f"python /root/ComfyUI/main.py & ssh -o StrictHostKeyChecking=no -p 80 -R0:localhost:8188 a.pinggy.io > log.txt"\n",
"    get_ipython().system(cmd)\n",
"    \n",
"def print_url():\n",
"    print("waiting for output")\n",
"    time.sleep(2)\n",
"    sys.stdout.flush()\n",
"    \n",
"    found = False\n",
"    with open('log.txt', 'r') as file:\n",
"        end_word = '.pinggy.link'\n",
"        for line in file:\n",
"            start_index = line.find("http:")\n",
"            if start_index != -1:\n",
"                end_index = line.find(end_word, start_index)\n",
"                if end_index != -1:\n",
"                    print("😁 😁 😁")\n",
"                    print("URL: " + line[start_index:end_index + len(end_word)])\n",
"                    print("😁 😁 😁")\n",
"                    found = True\n",
"    if not found:\n",
"        print_url()\n",
"    else:\n",
"        with open('log.txt', 'r') as file:\n",
"            for line in file:\n",
"                print(line)\n",
"    \n",
"p_app = Process(target=run_app)\n",
"p_url = Process(target=print_url)\n",
"p_app.start()\n",
"p_url.start()\n",
"p_app.join()\n",
"p_url.join()\n"
],
"execution_count": null,
"outputs": []
}
],
"metadata": {
"kernelspec": {
"display_name": "Python",
"language": "python",
"name": "python3"
},
"language_info": {
"codemirror_mode": {
"name": "ipython",
"version": 3
},
"file_extension": ".py",
"mimetype": "text/x-python",
"name": "python",
"nbconvert_exporter": "python",
"pygments_lexer": "ipython3"
}
},
"nbformat": 4,
"nbformat_minor": 5
}